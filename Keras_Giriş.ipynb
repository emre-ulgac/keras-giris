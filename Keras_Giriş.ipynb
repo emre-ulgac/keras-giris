{
  "nbformat": 4,
  "nbformat_minor": 0,
  "metadata": {
    "colab": {
      "name": "Keras Giriş.ipynb",
      "version": "0.3.2",
      "provenance": []
    },
    "kernelspec": {
      "name": "python3",
      "display_name": "Python 3"
    }
  },
  "cells": [
    {
      "cell_type": "markdown",
      "metadata": {
        "id": "lX8jK8HUji-x",
        "colab_type": "text"
      },
      "source": [
        "**Keras import**"
      ]
    },
    {
      "cell_type": "code",
      "metadata": {
        "id": "VjII69LDixUY",
        "colab_type": "code",
        "colab": {}
      },
      "source": [
        "from keras.models import Sequential"
      ],
      "execution_count": 0,
      "outputs": []
    },
    {
      "cell_type": "markdown",
      "metadata": {
        "id": "BN25LJPLXX-l",
        "colab_type": "text"
      },
      "source": [
        "**Model Oluşturma**"
      ]
    },
    {
      "cell_type": "code",
      "metadata": {
        "id": "NSiOFd8ritq0",
        "colab_type": "code",
        "colab": {}
      },
      "source": [
        "model = Sequential()"
      ],
      "execution_count": 0,
      "outputs": []
    },
    {
      "cell_type": "markdown",
      "metadata": {
        "id": "-pM1WC8Cb0mB",
        "colab_type": "text"
      },
      "source": [
        "***Input Dim***\n",
        "\n",
        "Her bir top verisinin üç farklı özelliği için input_dim 3 seçilir."
      ]
    },
    {
      "cell_type": "code",
      "metadata": {
        "id": "jrN9OkABjsiy",
        "colab_type": "code",
        "colab": {}
      },
      "source": [
        "model.add(Dense(32, input_dim=3))"
      ],
      "execution_count": 0,
      "outputs": []
    },
    {
      "cell_type": "markdown",
      "metadata": {
        "id": "DNOpCLIvcGku",
        "colab_type": "text"
      },
      "source": [
        "Sonraki katmanlar için tekrar input şekli tanımlamak gerekmez."
      ]
    },
    {
      "cell_type": "code",
      "metadata": {
        "id": "lqhkmDWHjxGQ",
        "colab_type": "code",
        "colab": {}
      },
      "source": [
        "model.add(Densei,16))"
      ],
      "execution_count": 0,
      "outputs": []
    },
    {
      "cell_type": "markdown",
      "metadata": {
        "id": "elAb655ccTcW",
        "colab_type": "text"
      },
      "source": [
        "**Batch Size**\n",
        "\n",
        "Elimizdeki toplam top verisi sayısı 500 olduğu için batch_size 500 seçilir.\n",
        "\n",
        "Hafıza kısıtlamalarından dolayı batch_size 32 olarak ayarlanabilirdi.."
      ]
    },
    {
      "cell_type": "code",
      "metadata": {
        "id": "-bkAgK5qkBSi",
        "colab_type": "code",
        "colab": {}
      },
      "source": [
        "model = Sequential()\n",
        "\n",
        "model.add(Dense(32, input_dim=3, batch_size=500))\n",
        "\n",
        "model.add(Dense(32, input_dim=3, batch_size=32))\n",
        "\n",
        "model.add(Dense(16))"
      ],
      "execution_count": 0,
      "outputs": []
    },
    {
      "cell_type": "markdown",
      "metadata": {
        "id": "rUzY_YvYchPk",
        "colab_type": "text"
      },
      "source": [
        " Aşağıdaki input_shape kullanımı input_dim=3 kullanımıyla tamamen aynıdır. \n",
        " \n",
        " input_shape=(3,) yerine input_shape=(3,None) da kullanılabilir. "
      ]
    },
    {
      "cell_type": "code",
      "metadata": {
        "id": "9gOQMbnYkYCp",
        "colab_type": "code",
        "colab": {}
      },
      "source": [
        "model = Sequential()\n",
        "\n",
        "model.add(Dense(32, input_shape=(3,)))"
      ],
      "execution_count": 0,
      "outputs": []
    },
    {
      "cell_type": "markdown",
      "metadata": {
        "id": "YM6hJ53pcwgc",
        "colab_type": "text"
      },
      "source": [
        "Aşağıdaki input_shape kullanımı input_dim=785 kullanımıyla tamamen aynıdır."
      ]
    },
    {
      "cell_type": "code",
      "metadata": {
        "id": "wuNrrR5DktWi",
        "colab_type": "code",
        "colab": {}
      },
      "source": [
        "model = Sequential()\n",
        "\n",
        "model.add(Dense(128, input_shape=(785,)))\n",
        "model.add(Dense(1))"
      ],
      "execution_count": 0,
      "outputs": []
    },
    {
      "cell_type": "markdown",
      "metadata": {
        "id": "E84fa2EQonw4",
        "colab_type": "text"
      },
      "source": [
        "**Aktivasyon Fonksiyonları**"
      ]
    },
    {
      "cell_type": "markdown",
      "metadata": {
        "id": "pC8S4O7EdBbJ",
        "colab_type": "text"
      },
      "source": [
        "Yukardaki oluşturulan Sequential model ile aşağıdaki arasında işleyiş bakımından hiçbir fark yok"
      ]
    },
    {
      "cell_type": "code",
      "metadata": {
        "id": "x19zSdP3ollW",
        "colab_type": "code",
        "colab": {}
      },
      "source": [
        "model = Sequential()\n",
        "model.add(Dense(32, input_shape=(784,)))\n",
        "model.add(Activation('relu'))\n",
        "\n",
        "\n",
        "model = Sequential()\n",
        "model.add(Dense(32,input_shape=(784,),activation='relu'))\n"
      ],
      "execution_count": 0,
      "outputs": []
    },
    {
      "cell_type": "markdown",
      "metadata": {
        "id": "Uo75APImdSfg",
        "colab_type": "text"
      },
      "source": [
        "**Dropout**"
      ]
    },
    {
      "cell_type": "markdown",
      "metadata": {
        "id": "2taoW15edUAH",
        "colab_type": "text"
      },
      "source": [
        "Dropout yapısı modelin overfitting yapmasını yani ezberlemesini önlemek için kullanılır."
      ]
    },
    {
      "cell_type": "code",
      "metadata": {
        "id": "Xq6N81ARdW76",
        "colab_type": "code",
        "colab": {}
      },
      "source": [
        " #Aşağıda kullanılan Dropout yapısı katmandaki nöronların 0.2’sini (5’te 1’ini)\n",
        "#her bir epoch başlangıcında rastgele seçer ve epoch boyunca erişilemez hale getirir.\n",
        " model = Sequential()\n",
        " model.add(Dropout(0.2))\n",
        " model.add(Activation(16, input_dim=5))"
      ],
      "execution_count": 0,
      "outputs": []
    },
    {
      "cell_type": "markdown",
      "metadata": {
        "id": "9XjL5hNOfKSs",
        "colab_type": "text"
      },
      "source": [
        "**RECURRENT KATMANLAR**\n",
        "\n",
        "\n",
        "\n",
        "> LSTM(Long-Short Term Memor)\n",
        "\n",
        "\n",
        "\n",
        "![alt text](https://miro.medium.com/proxy/1*6xj691fPWf3S-mWUCbxSJg.jpeg)\n"
      ]
    },
    {
      "cell_type": "code",
      "metadata": {
        "id": "akQ3QG36f6HE",
        "colab_type": "code",
        "colab": {}
      },
      "source": [
        "\n",
        "# Sequential modelin ilk katmanı\n",
        "model = Sequential()\n",
        "\n",
        "# Bir Recurrent katman yapısı olan LSTM katmanı modele yerleştirildi.\n",
        "model.add(LSTM(32, input_shape=(10, 64)))\n",
        "\n",
        "# Takip eden katmanlar için input şeklini belirtmek gereksiz.\n",
        "model.add(LSTM(16))\n",
        "\n",
        "\n",
        "# Takip eden katmanlar için input şeklini belirtmek gereksiz.\n",
        "model.add(LSTM(16))\n"
      ],
      "execution_count": 0,
      "outputs": []
    },
    {
      "cell_type": "markdown",
      "metadata": {
        "id": "5cMaOo7YijiB",
        "colab_type": "text"
      },
      "source": [
        "LSTM katmanlarında input verilerinin boyutlarını çeşitli şekillerde tanımlayabiliriz. Örneğin elimizde 30 adet günlük sıcaklık verisi olduğunu ve bunları kullanarak önümüzdeki günler için sıcaklık tahmini yapmaya çalıştığımızı düşünelim. (Forecasting) Öncelikle kaç tane geçmiş sıcaklık verisinden yararlanacağımızı yani timesteps’in kaç olacağını belirlememiz gerekir. Bu örnekte timesteps’i 3 olarak seçtiğimizi kabul edelim. Batch_size, yani eğitime hazır toplam veri sayısı, 30, timesteps 3 ve input boyutumuz (sıcaklık değeri) 1 olur."
      ]
    },
    {
      "cell_type": "code",
      "metadata": {
        "id": "qQm_h3iuixQY",
        "colab_type": "code",
        "colab": {}
      },
      "source": [
        "model = Sequential()\n",
        "model.add(LSTM(30, batch_input_shape=(30, 3, 1)))\n",
        "model.add(Dense(1))"
      ],
      "execution_count": 0,
      "outputs": []
    },
    {
      "cell_type": "markdown",
      "metadata": {
        "id": "EURRDu6xi85m",
        "colab_type": "text"
      },
      "source": [
        "**Compile**\n",
        "\n",
        "**Kayıp fonksiyonu ve optimizer bir modelin compile edilmesi için olmazsa olmazlardandır.**\n",
        "\n",
        "Katmanları problemin sonucuna uygun olacak şekilde inşa edilen modeli, eğitmeye başlamadan önce, öğrenme sürecinde kullanılacak parametrelerin belirlenmesi gereklidir. Bu işlem compile() fonksiyonu kullanılarak yapılır. "
      ]
    },
    {
      "cell_type": "code",
      "metadata": {
        "id": "0dlbHVbDjOaA",
        "colab_type": "code",
        "colab": {}
      },
      "source": [
        "model = Sequential()\n",
        "model.add(LSTM(10, input_shape=(10, 2))) \n",
        "model.add(Activation('relu'))\n",
        "model.add(Dense(1))\n",
        "# Modelin eğitimi esnasında kayıp fonksiyonu olarak mean squared error # optimizer olarak ise sgd (stochastic gradient descent) kullanıldı. \n",
        "model.compile(loss='mean_squared_error', optimizer='sgd')\n"
      ],
      "execution_count": 0,
      "outputs": []
    },
    {
      "cell_type": "markdown",
      "metadata": {
        "id": "idhqmeuWjh2d",
        "colab_type": "text"
      },
      "source": [
        "# **Kayıp Fonksiyonları**\n",
        "\n",
        "**mean_squared_error**\n",
        "\n",
        "Doğru ve tahmin edilmiş değerler arasındaki farkların karelerini alır ve bunları toplar. Daha sonra bu toplamın ortalamasını sonuç olarak verir.\n",
        "\n",
        "**mean_absolute_error**\n",
        "\n",
        "Doğru ve tahmin edilmiş değerler arasındaki farkların pozitif değerlerini yani uzaklıklarını alır ve bunları toplar. Daha sonra bu toplamın ortalamasını sonuç olarak verir.\n",
        "\n",
        "\n",
        "\n",
        "**mean_absolute_percentage_error**\n",
        "\n",
        "Doğru ve tahmin edilmiş değerler arasındaki farkların pozitif değerlerini yani uzaklıklarını alır ve ardından bu değerleri doğru değerlere bölerek toplar. Daha sonra bu toplamın ortalamasını alır ve 100 ile çarparak yüzdelik hata biçimine çevirir.\n",
        "\n",
        "\n",
        "**mean_squared_logarithmic_error**\n",
        "\n",
        "Doğru ve tahmin edilmiş değerlerin logaritmalarının farkının alır ve ardından bu değerleri toplar. Daha sonra bu toplamın ortalamasının karekökünü sonuç olarak verir.\n",
        "\n",
        "\n",
        "\n"
      ]
    },
    {
      "cell_type": "code",
      "metadata": {
        "id": "kX7y4ia3ksb5",
        "colab_type": "code",
        "colab": {}
      },
      "source": [
        "# mean_squared_error\n",
        "keras.losses.mean_squared_error(y_true, y_pred)\n",
        "\n",
        "# mean_absolute_error\n",
        "keras.losses.mean_absolute_error(y_true, y_pred)\n",
        "\n",
        "# mean_absolute_percentage_error\n",
        "keras.losses.mean_absolute_percentage_error(y_true, y_pred)"
      ],
      "execution_count": 0,
      "outputs": []
    },
    {
      "cell_type": "markdown",
      "metadata": {
        "id": "SHY84Grcj_qd",
        "colab_type": "text"
      },
      "source": [
        "# **Optimizers**\n",
        "\n",
        "Optimizerlar kayıp fonksiyonunu minimize etmek amacıyla kullanılan algoritmalardır.\n"
      ]
    },
    {
      "cell_type": "markdown",
      "metadata": {
        "id": "c4-4rDo9kb1T",
        "colab_type": "text"
      },
      "source": [
        ""
      ]
    },
    {
      "cell_type": "markdown",
      "metadata": {
        "id": "eIuh0wp-kcA3",
        "colab_type": "text"
      },
      "source": [
        "**SGD (Stochastic Gradient Descent)**"
      ]
    },
    {
      "cell_type": "code",
      "metadata": {
        "id": "fmrfCKQ1kaeg",
        "colab_type": "code",
        "colab": {}
      },
      "source": [
        "keras.optimizers.SGD(lr=0.01, momentum=0.0, decay=0.0, nesterov=False)"
      ],
      "execution_count": 0,
      "outputs": []
    },
    {
      "cell_type": "markdown",
      "metadata": {
        "id": "NKO_27P1keh9",
        "colab_type": "text"
      },
      "source": [
        "**RMSprop**"
      ]
    },
    {
      "cell_type": "code",
      "metadata": {
        "id": "mQqOl89hkhp9",
        "colab_type": "code",
        "colab": {}
      },
      "source": [
        "keras.optimizers.RMSprop(lr=0.001, rho=0.9, epsilon=None, decay=0.0)"
      ],
      "execution_count": 0,
      "outputs": []
    },
    {
      "cell_type": "markdown",
      "metadata": {
        "id": "BdN00d-okkdZ",
        "colab_type": "text"
      },
      "source": [
        "**Adam**"
      ]
    },
    {
      "cell_type": "code",
      "metadata": {
        "id": "oF4TtGuBkp2q",
        "colab_type": "code",
        "colab": {}
      },
      "source": [
        "keras.optimizers.Adam(lr=0.001, beta_1=0.9, beta_2=0.999, epsilon=None, decay=0.0, amsgrad=False)"
      ],
      "execution_count": 0,
      "outputs": []
    },
    {
      "cell_type": "markdown",
      "metadata": {
        "id": "m0-HsHbelM1N",
        "colab_type": "text"
      },
      "source": [
        "# **TRAINING**\n",
        "Modelin katmanları ve eğitim süresince kullanılacak fonksiyonlar belirlendikten sonra, eğitim süreci başlatılabilir. Eğitimi başlatmak için fit() fonksiyonu kullanılır.\n",
        "\n",
        "\n",
        "input = **x**\n",
        "\n",
        "output = **y**\n",
        "\n",
        "epoch döngü sayısı = **epochs**\n",
        "\n",
        "süreç durumu = **verbose**\n",
        "\n",
        "veri kümesi alt kümeler = **batch size**\n",
        "\n"
      ]
    },
    {
      "cell_type": "code",
      "metadata": {
        "id": "AXNv1BZ6r5zI",
        "colab_type": "code",
        "colab": {}
      },
      "source": [
        "fit(self, x, y, batch_size=32, epochs=10, verbose=1, callbacks=None, validation_split=0.0, validation_data=None, shu8e=True, class_weight=None, \n",
        "sample_weight=None, initial_epoch=0)\n"
      ],
      "execution_count": 0,
      "outputs": []
    }
  ]
}